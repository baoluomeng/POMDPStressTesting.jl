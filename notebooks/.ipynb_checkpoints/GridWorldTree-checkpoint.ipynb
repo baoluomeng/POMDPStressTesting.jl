{
 "cells": [
  {
   "cell_type": "code",
   "execution_count": null,
   "metadata": {},
   "outputs": [],
   "source": [
    "using MCTS\n",
    "using POMDPs\n",
    "using POMDPModels # for the GridWorld problem\n",
    "using D3Trees\n",
    "using Random\n",
    "mdp = SimpleGridWorld()\n",
    "solver = MCTSSolver(n_iterations=50, depth=20, exploration_constant=5.0)\n",
    "planner = solve(solver, mdp)\n",
    "\n",
    "s = initialstate(mdp, Random.MersenneTwister(4))\n",
    "a = action(planner, s)"
   ]
  }
 ],
 "metadata": {
  "kernelspec": {
   "display_name": "Julia 1.2.0",
   "language": "julia",
   "name": "julia-1.2"
  },
  "language_info": {
   "file_extension": ".jl",
   "mimetype": "application/julia",
   "name": "julia",
   "version": "1.2.0"
  }
 },
 "nbformat": 4,
 "nbformat_minor": 2
}
